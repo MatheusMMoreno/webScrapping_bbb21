{
 "cells": [
  {
   "cell_type": "markdown",
   "metadata": {},
   "source": [
    "<h1 style=\"color:gray;\">Import Packages and Create Functions</h1>"
   ]
  },
  {
   "cell_type": "code",
   "execution_count": 1,
   "metadata": {},
   "outputs": [
    {
     "name": "stderr",
     "output_type": "stream",
     "text": [
      "C:\\ProgramData\\Anaconda3\\lib\\site-packages\\win_unicode_console\\__init__.py:31: RuntimeWarning: sys.stdin.encoding == 'cp1252', whereas sys.stdout.encoding == 'UTF-8', readline hook consumer may assume they are the same\n",
      "  readline_hook.enable(use_pyreadline=use_pyreadline)\n"
     ]
    }
   ],
   "source": [
    "#basic packages\n",
    "import pandas as pd\n",
    "import seaborn as sns\n",
    "import numpy as np\n",
    "import matplotlib.pyplot as plt\n",
    "\n",
    "# Instagram package\n",
    "import instaloader\n",
    "\n",
    "# for dates and wait function\n",
    "import datetime\n",
    "import time\n",
    "\n",
    "#import excel\n",
    "\n",
    "# package to connect to sql server\n",
    "import pyodbc\n",
    "\n",
    "#package to covnert jupyter notebook to .py\n",
    "import nbconvert\n",
    "\n",
    "#Import IPyhton\n",
    "from IPython.display import Javascript\n",
    "from IPython.core.display import display, HTML"
   ]
  },
  {
   "cell_type": "code",
   "execution_count": 2,
   "metadata": {},
   "outputs": [],
   "source": [
    "def get_followers(users,username,password):\n",
    "    df = pd.DataFrame(columns=[\"Account\",\"Followers\",\"Refresh\"])\n",
    "    \n",
    "    refresh_time = datetime.datetime.now().strftime(\"%m/%d/%Y, %H:%M:%S\")\n",
    "    \n",
    "    \n",
    "    Instagram = instaloader.Instaloader()\n",
    "    Instagram.login(username, password)\n",
    "    \n",
    "    for user in users:\n",
    "        account = user \n",
    "        profile= instaloader.Profile.from_username(Instagram.context, user)\n",
    "        followers = profile.followers\n",
    "        refresh = refresh_time\n",
    "        df.loc[len(df)] = [account,followers,refresh]\n",
    "        \n",
    "    return df"
   ]
  },
  {
   "cell_type": "markdown",
   "metadata": {},
   "source": [
    "<h1 style=\"color:gray;\">Code</h1>"
   ]
  },
  {
   "cell_type": "code",
   "execution_count": 3,
   "metadata": {},
   "outputs": [],
   "source": [
    "### BBB21 invitees in Brazil\n",
    "bbb_list = ['lucaskokapenteado','viihtube','pocah','juliette.freire','carladiaz','sarah_andrade','bilaraujjo','gilnogueiraofc','camilladelucas','projota','irodolffo','afiune_caio','fiuk','arthurpicoli','negodioficial','karolconka','thaisfbraz','kercardoso','joaolpedrosa','lumena.aleluia']"
   ]
  },
  {
   "cell_type": "code",
   "execution_count": 4,
   "metadata": {},
   "outputs": [],
   "source": [
    "username= 'your_instagram_user'\n",
    "password = r'your_password!'"
   ]
  },
  {
   "cell_type": "code",
   "execution_count": 5,
   "metadata": {},
   "outputs": [],
   "source": [
    "# Connect to local DB\n",
    "db_statement = r'Driver=ODBC Driver 17 for SQL Server;Server=your_server;Database=local_project;Trusted_Connection=yes;'"
   ]
  },
  {
   "cell_type": "code",
   "execution_count": 6,
   "metadata": {},
   "outputs": [],
   "source": [
    "# query to add data to local db\n",
    "sql = '''\n",
    "Insert into instragram \n",
    "(account, followers, refresh)\n",
    "values (?,?,?);\n",
    "'''"
   ]
  },
  {
   "cell_type": "code",
   "execution_count": null,
   "metadata": {},
   "outputs": [
    {
     "name": "stdout",
     "output_type": "stream",
     "text": [
      "Iteration started\n",
      "refresh time: 2021-02-20 13:27:39.874157\n",
      "Update Performed\n",
      "Next refresh on 30 min\n",
      "Iteration started\n",
      "refresh time: 2021-02-20 13:58:38.501824\n",
      "Update Performed\n",
      "Next refresh on 30 min\n",
      "Iteration started\n",
      "refresh time: 2021-02-20 14:29:47.480378\n",
      "Update Performed\n",
      "Next refresh on 30 min\n",
      "Iteration started\n",
      "refresh time: 2021-02-20 15:00:50.624511\n",
      "Update Performed\n",
      "Next refresh on 30 min\n",
      "Iteration started\n",
      "refresh time: 2021-02-20 15:32:04.776353\n",
      "Update Performed\n",
      "Next refresh on 30 min\n",
      "Iteration started\n",
      "refresh time: 2021-02-20 16:03:00.142565\n",
      "Update Performed\n",
      "Next refresh on 30 min\n",
      "Iteration started\n",
      "refresh time: 2021-02-20 16:34:16.823491\n",
      "Update Performed\n",
      "Next refresh on 30 min\n",
      "Iteration started\n",
      "refresh time: 2021-02-20 17:05:13.721129\n",
      "Update Performed\n",
      "Next refresh on 30 min\n",
      "Iteration started\n",
      "refresh time: 2021-02-20 17:36:09.324614\n",
      "Update Performed\n",
      "Next refresh on 30 min\n",
      "Iteration started\n",
      "refresh time: 2021-02-20 18:06:54.071611\n",
      "Update Performed\n",
      "Next refresh on 30 min\n",
      "Iteration started\n",
      "refresh time: 2021-02-20 18:37:55.933969\n",
      "Update Performed\n",
      "Next refresh on 30 min\n",
      "Iteration started\n",
      "refresh time: 2021-02-20 19:08:57.020857\n",
      "Update Performed\n",
      "Next refresh on 30 min\n",
      "Iteration started\n",
      "refresh time: 2021-02-20 19:39:49.440087\n",
      "Update Performed\n",
      "Next refresh on 30 min\n",
      "Iteration started\n",
      "refresh time: 2021-02-20 20:10:51.539205\n",
      "Update Performed\n",
      "Next refresh on 30 min\n",
      "Iteration started\n",
      "refresh time: 2021-02-20 20:41:42.073070\n",
      "Update Performed\n",
      "Next refresh on 30 min\n",
      "Iteration started\n",
      "refresh time: 2021-02-20 21:12:46.859475\n",
      "Update Performed\n",
      "Next refresh on 30 min\n"
     ]
    }
   ],
   "source": [
    "#make a endless loop\n",
    "while True:\n",
    "    \n",
    "    \n",
    "    print(\"Iteration started\")\n",
    "    \n",
    "    ### get info Data Frame\n",
    "    df = get_followers(bbb_list,username,password)\n",
    "    \n",
    "    print(\"refresh time:\",datetime.datetime.now())\n",
    "    \n",
    "    # connect to local db\n",
    "    with pyodbc.connect(db_statement) as conn:\n",
    "        cursor = conn.cursor()\n",
    "        try:\n",
    "            for row in range(len(df)):\n",
    "                # build a tuple to be used to add to the df\n",
    "                data =tuple([df.iloc[row,0],df.iloc[row,1],datetime.datetime.now()])\n",
    "                \n",
    "                #execute query\n",
    "                cursor.execute(sql, data)\n",
    "        except Exception as e:\n",
    "            print(\"An Error Ocurred:\",e)\n",
    "            \n",
    "            #run cells above\n",
    "            display(Javascript('IPython.notebook.execute_cells_above()'))\n",
    "            \n",
    "            #stop if error\n",
    "            raise\n",
    "        #commit insert if not error on building df\n",
    "        conn.commit()\n",
    "        print(\"Update Performed\")\n",
    "    \n",
    "    print(\"Next refresh on 30 min\")\n",
    "    \n",
    "    # Make code stop for 1800 s before running again\n",
    "    time.sleep(1800)"
   ]
  },
  {
   "cell_type": "code",
   "execution_count": null,
   "metadata": {},
   "outputs": [],
   "source": [
    "#!ipython nbconvert — to script BBB_Instagram_Feed.ipynb"
   ]
  }
 ],
 "metadata": {
  "kernelspec": {
   "display_name": "Python 3",
   "language": "python",
   "name": "python3"
  },
  "language_info": {
   "codemirror_mode": {
    "name": "ipython",
    "version": 3
   },
   "file_extension": ".py",
   "mimetype": "text/x-python",
   "name": "python",
   "nbconvert_exporter": "python",
   "pygments_lexer": "ipython3",
   "version": "3.8.3"
  }
 },
 "nbformat": 4,
 "nbformat_minor": 4
}
